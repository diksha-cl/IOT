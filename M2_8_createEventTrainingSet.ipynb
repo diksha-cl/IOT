{
  "nbformat": 4,
  "nbformat_minor": 0,
  "metadata": {
    "kernelspec": {
      "display_name": "Python 3",
      "language": "python",
      "name": "python3"
    },
    "language_info": {
      "codemirror_mode": {
        "name": "ipython",
        "version": 3
      },
      "file_extension": ".py",
      "mimetype": "text/x-python",
      "name": "python",
      "nbconvert_exporter": "python",
      "pygments_lexer": "ipython3",
      "version": "3.7.4"
    },
    "colab": {
      "name": "M2_8_createEventTrainingSet.ipynb",
      "provenance": [],
      "include_colab_link": true
    }
  },
  "cells": [
    {
      "cell_type": "markdown",
      "metadata": {
        "id": "view-in-github",
        "colab_type": "text"
      },
      "source": [
        "<a href=\"https://colab.research.google.com/github/diksha-cl/IOT/blob/master/M2_8_createEventTrainingSet.ipynb\" target=\"_parent\"><img src=\"https://colab.research.google.com/assets/colab-badge.svg\" alt=\"Open In Colab\"/></a>"
      ]
    },
    {
      "cell_type": "markdown",
      "metadata": {
        "id": "Px4AKX6ksBl3",
        "colab_type": "text"
      },
      "source": [
        "# Importing Libraries and Functions"
      ]
    },
    {
      "cell_type": "code",
      "metadata": {
        "id": "3ScuRd_2sBl4",
        "colab_type": "code",
        "colab": {}
      },
      "source": [
        "import pandas as pd\n",
        "import import_ipynb\n",
        "from M2_1_trainingDataFrom_one import trainingDataFrom_one\n",
        "from M2_2_trainingDataFrom_sitstandmult import trainingDataFrom_sitstandmult\n",
        "from M2_3_trainingDataFrom_standtostand1 import trainingDataFrom_standtostand1\n",
        "from M2_4_trainingDataFrom_standtostand2 import trainingDataFrom_standtostand2\n",
        "from M2_5_trainingDataFrom_standtostand3 import trainingDataFrom_standtostand3\n",
        "from M2_6_trainingDataFrom_type1 import trainingDataFrom_type1\n",
        "from M2_7_trainingDataFrom_walk1 import trainingDataFrom_walk1\n",
        "\n"
      ],
      "execution_count": null,
      "outputs": []
    },
    {
      "cell_type": "markdown",
      "metadata": {
        "id": "fAwmyRH-sBl8",
        "colab_type": "text"
      },
      "source": [
        "# Save the data to training.csv by appending training instances from each file"
      ]
    },
    {
      "cell_type": "code",
      "metadata": {
        "id": "kAVEsL9isBl8",
        "colab_type": "code",
        "colab": {}
      },
      "source": [
        "trainingSet=pd.DataFrame()\n",
        "# Your code here\n",
        "\n",
        "\n",
        "\n",
        "trainingSet.to_csv('trainingSet.csv')"
      ],
      "execution_count": null,
      "outputs": []
    }
  ]
}