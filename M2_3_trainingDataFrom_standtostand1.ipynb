{
  "nbformat": 4,
  "nbformat_minor": 0,
  "metadata": {
    "kernelspec": {
      "display_name": "Python 3",
      "language": "python",
      "name": "python3"
    },
    "language_info": {
      "codemirror_mode": {
        "name": "ipython",
        "version": 3
      },
      "file_extension": ".py",
      "mimetype": "text/x-python",
      "name": "python",
      "nbconvert_exporter": "python",
      "pygments_lexer": "ipython3",
      "version": "3.7.4"
    },
    "colab": {
      "name": "M2_3_trainingDataFrom_standtostand1.ipynb",
      "provenance": [],
      "include_colab_link": true
    }
  },
  "cells": [
    {
      "cell_type": "markdown",
      "metadata": {
        "id": "view-in-github",
        "colab_type": "text"
      },
      "source": [
        "<a href=\"https://colab.research.google.com/github/diksha-cl/IOT/blob/master/M2_3_trainingDataFrom_standtostand1.ipynb\" target=\"_parent\"><img src=\"https://colab.research.google.com/assets/colab-badge.svg\" alt=\"Open In Colab\"/></a>"
      ]
    },
    {
      "cell_type": "markdown",
      "metadata": {
        "id": "XNtSGIwumjIm",
        "colab_type": "text"
      },
      "source": [
        "# Import libraries"
      ]
    },
    {
      "cell_type": "code",
      "metadata": {
        "id": "8PSTtgAWmqJ1",
        "colab_type": "code",
        "colab": {
          "base_uri": "https://localhost:8080/",
          "height": 193
        },
        "outputId": "9cf19919-6aea-41c5-f765-0bf47ae4ab51"
      },
      "source": [
        "! pip install import-ipynb"
      ],
      "execution_count": 1,
      "outputs": [
        {
          "output_type": "stream",
          "text": [
            "Collecting import-ipynb\n",
            "  Downloading https://files.pythonhosted.org/packages/63/35/495e0021bfdcc924c7cdec4e9fbb87c88dd03b9b9b22419444dc370c8a45/import-ipynb-0.1.3.tar.gz\n",
            "Building wheels for collected packages: import-ipynb\n",
            "  Building wheel for import-ipynb (setup.py) ... \u001b[?25l\u001b[?25hdone\n",
            "  Created wheel for import-ipynb: filename=import_ipynb-0.1.3-cp36-none-any.whl size=2976 sha256=c29f3c4c441157c7fc3fb0e22df19e4544c0b8311f21354c3505f045e8886c9e\n",
            "  Stored in directory: /root/.cache/pip/wheels/b4/7b/e9/a3a6e496115dffdb4e3085d0ae39ffe8a814eacc44bbf494b5\n",
            "Successfully built import-ipynb\n",
            "Installing collected packages: import-ipynb\n",
            "Successfully installed import-ipynb-0.1.3\n"
          ],
          "name": "stdout"
        }
      ]
    },
    {
      "cell_type": "code",
      "metadata": {
        "id": "5b7fQgxJmq5B",
        "colab_type": "code",
        "colab": {
          "base_uri": "https://localhost:8080/",
          "height": 141
        },
        "outputId": "9746e7da-587e-4ab9-d26c-820947ef79b3"
      },
      "source": [
        "from google.colab import drive\n",
        "drive.mount(\"mnt\")\n",
        "%cd \"mnt/My Drive/Colab Notebooks\""
      ],
      "execution_count": 2,
      "outputs": [
        {
          "output_type": "stream",
          "text": [
            "Go to this URL in a browser: https://accounts.google.com/o/oauth2/auth?client_id=947318989803-6bn6qk8qdgf4n4g3pfee6491hc0brc4i.apps.googleusercontent.com&redirect_uri=urn%3aietf%3awg%3aoauth%3a2.0%3aoob&response_type=code&scope=email%20https%3a%2f%2fwww.googleapis.com%2fauth%2fdocs.test%20https%3a%2f%2fwww.googleapis.com%2fauth%2fdrive%20https%3a%2f%2fwww.googleapis.com%2fauth%2fdrive.photos.readonly%20https%3a%2f%2fwww.googleapis.com%2fauth%2fpeopleapi.readonly\n",
            "\n",
            "Enter your authorization code:\n",
            "··········\n",
            "Mounted at mnt\n",
            "/content/mnt/My Drive/Colab Notebooks\n"
          ],
          "name": "stdout"
        }
      ]
    },
    {
      "cell_type": "code",
      "metadata": {
        "id": "GT2Nfc-LmjIn",
        "colab_type": "code",
        "colab": {
          "base_uri": "https://localhost:8080/",
          "height": 260
        },
        "outputId": "dce9653b-a62a-4aee-bc41-a256c6b6d759"
      },
      "source": [
        "import pandas as pd\n",
        "import import_ipynb\n",
        "import M1_2_trainingSetPrepHelper\n",
        "from M1_2_trainingSetPrepHelper import convertRawToTrainingInstance"
      ],
      "execution_count": 3,
      "outputs": [
        {
          "output_type": "stream",
          "text": [
            "importing Jupyter notebook from M1_2_trainingSetPrepHelper.ipynb\n",
            "[0.004, 5.004, 10.004, 15.004, 20.003999999999998, 25.003999999999998, 30.003999999999998, 35.004]\n",
            "[]\n",
            "[]\n",
            "[]\n",
            "[]\n",
            "[]\n",
            "[]\n",
            "Empty DataFrame\n",
            "Columns: []\n",
            "Index: []\n",
            "Empty DataFrame\n",
            "Columns: []\n",
            "Index: []\n"
          ],
          "name": "stdout"
        }
      ]
    },
    {
      "cell_type": "markdown",
      "metadata": {
        "id": "hO8EsgKrmjIq",
        "colab_type": "text"
      },
      "source": [
        "Training file 'standtostand1.csv' contains the following events: \n",
        "- sit-down (from standing position)\n",
        "- lie-down\n",
        "- turn (on back)\n",
        "- turn (to left)\n",
        "- turn (on back)\n",
        "- turn (to left)\n",
        "- sit up\n",
        "- stand up\n",
        "<br> <br>\n",
        "You have to detect the following events by observing wavy pattern in plot of the file. Similar to the plot you have observed in Module 1. \n"
      ]
    },
    {
      "cell_type": "markdown",
      "metadata": {
        "id": "mjQTow-GmjIq",
        "colab_type": "text"
      },
      "source": [
        "# Define the function trainingDataFrom_standtostand1() such that it returns training instances for standtostand1.csv"
      ]
    },
    {
      "cell_type": "code",
      "metadata": {
        "id": "fZhATz_bmjIr",
        "colab_type": "code",
        "colab": {}
      },
      "source": [
        "def trainingDataFrom_standtostand1():\n",
        "    df = pd.read_csv('https://raw.githubusercontent.com/diksha-cl/Iot_csv_files/master/standtostand1.csv')\n",
        "    trainingSet = pd.DataFrame()\n",
        "    # Your coode here\n",
        "    \n",
        "    \n",
        "    return trainingSet\n"
      ],
      "execution_count": 4,
      "outputs": []
    },
    {
      "cell_type": "code",
      "metadata": {
        "id": "V2Q69VP9mjIt",
        "colab_type": "code",
        "colab": {
          "base_uri": "https://localhost:8080/",
          "height": 32
        },
        "outputId": "28ea8602-4b65-4dd7-f3d7-8523462dff6e"
      },
      "source": [
        "trainingDataFrom_standtostand1()"
      ],
      "execution_count": 5,
      "outputs": [
        {
          "output_type": "execute_result",
          "data": {
            "text/html": [
              "<div>\n",
              "<style scoped>\n",
              "    .dataframe tbody tr th:only-of-type {\n",
              "        vertical-align: middle;\n",
              "    }\n",
              "\n",
              "    .dataframe tbody tr th {\n",
              "        vertical-align: top;\n",
              "    }\n",
              "\n",
              "    .dataframe thead th {\n",
              "        text-align: right;\n",
              "    }\n",
              "</style>\n",
              "<table border=\"1\" class=\"dataframe\">\n",
              "  <thead>\n",
              "    <tr style=\"text-align: right;\">\n",
              "      <th></th>\n",
              "    </tr>\n",
              "  </thead>\n",
              "  <tbody>\n",
              "  </tbody>\n",
              "</table>\n",
              "</div>"
            ],
            "text/plain": [
              "Empty DataFrame\n",
              "Columns: []\n",
              "Index: []"
            ]
          },
          "metadata": {
            "tags": []
          },
          "execution_count": 5
        }
      ]
    },
    {
      "cell_type": "markdown",
      "metadata": {
        "id": "UVfx0LU4mjIv",
        "colab_type": "text"
      },
      "source": [
        "The output of the above function should be as follows:\n",
        "<pre>\n",
        " start_time  end_time   stdDevX   absAvgX       ZCRX  minMaxX   stdDevY  \\\n",
        "0       8.500    12.000  0.233401  0.162637  11.142857   0.1070  0.975027   \n",
        "0      16.001    20.000  0.743747  0.522821   7.001750  -0.6323  0.558959   \n",
        "0      28.000    31.998  0.279397  0.187084  16.758379   1.1366  0.156203   \n",
        "0      34.004    36.988  0.650939  0.386087   7.707775   2.2561  0.178590   \n",
        "0      45.000    48.997  0.252946  0.161178  17.012760  -0.9158  0.151613   \n",
        "0      60.001    64.000  0.859383  0.579973  12.753188   1.4727  0.533762   \n",
        "0      68.003    70.000  0.416118  0.330868   7.010516   0.0452  0.944483   \n",
        "\n",
        "    absAvgY       ZCRY  minMaxY   stdDevZ   absAvgZ       ZCRZ  minMaxZ  \\\n",
        "0  0.628557   4.285714   1.7712  0.480034  0.293098  14.857143  -0.4561   \n",
        "0  0.405055  11.252813  -1.5497  0.639068  0.401460  12.253063  -1.5530   \n",
        "0  0.114463  17.758879   0.0141  0.210368  0.166126  12.756378  -0.1760   \n",
        "0  0.124965  19.436997  -0.0459  0.411893  0.283500  20.107239   0.3433   \n",
        "0  0.108349  25.268952  -0.0282  0.257783  0.159108  20.515387  -0.0824   \n",
        "0  0.401699  13.253313  -0.0940  0.698727  0.448832  15.753938   1.5294   \n",
        "0  0.688214  12.518778  -0.1281  0.971090  0.636659  12.018027   2.4745   \n",
        "\n",
        "     maxX    maxY    maxZ activity  \n",
        "0  0.7609  4.0370  1.1591  sitDown  \n",
        "0  2.0451  1.1953  1.1209  lieDown  \n",
        "0  1.6002  0.5319  0.6603     turn  \n",
        "0  4.1082  0.9728  1.5292     turn  \n",
        "0  0.6276  0.6907  1.2353     turn  \n",
        "0  4.1601  1.5742  3.5695    sitUp  \n",
        "0  1.0220  2.0540  3.4306  standUp </pre>  \n",
        "​"
      ]
    }
  ]
}